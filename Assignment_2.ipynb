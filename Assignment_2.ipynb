{
 "cells": [
  {
   "cell_type": "markdown",
   "id": "498571cb",
   "metadata": {
    "tags": [
     "parameters"
    ]
   },
   "source": [
    "Extra_Assignment_Question-4 (Functions)"
   ]
  },
  {
   "cell_type": "code",
   "execution_count": 7,
   "id": "76c71349",
   "metadata": {},
   "outputs": [],
   "source": [
    "class SubfieldsInAI:\n",
    "    def Subfields():\n",
    "        print(\"Subfields in AI are:\")\n",
    "        fields = [\n",
    "            \"Machine Learning\",\n",
    "            \"Neural Networks\",\n",
    "            \"Vision\",\n",
    "            \"Robotics\",\n",
    "            \"Speech Processing\",\n",
    "            \"Natural Language Processing\"\n",
    "        ]\n",
    "        for field in fields:\n",
    "            print(field)"
   ]
  },
  {
   "cell_type": "code",
   "execution_count": 5,
   "id": "ea773d02",
   "metadata": {},
   "outputs": [
    {
     "name": "stdout",
     "output_type": "stream",
     "text": [
      "Subfields in AI are:\n",
      "Machine Learning\n",
      "Neural Networks\n",
      "Vision\n",
      "Robotics\n",
      "Speech Processing\n",
      "Natural Language Processing\n"
     ]
    }
   ],
   "source": [
    "SubfieldsInAI.Subfields()"
   ]
  },
  {
   "cell_type": "code",
   "execution_count": 19,
   "id": "0d707df1",
   "metadata": {},
   "outputs": [],
   "source": [
    "class OddEven:\n",
    "    def OddEven():\n",
    "        num = int(input(\"Enter a number: \"))\n",
    "        print(\"Enter a number: \",num)\n",
    "        if num % 2 == 0:\n",
    "            print(f\"{num} is Even number\")\n",
    "        else:\n",
    "            print(f\"{num} is Odd number\")"
   ]
  },
  {
   "cell_type": "code",
   "execution_count": 20,
   "id": "1f30ab4d",
   "metadata": {},
   "outputs": [
    {
     "name": "stdout",
     "output_type": "stream",
     "text": [
      "Enter a number:  52452\n",
      "52452 is Even number\n"
     ]
    }
   ],
   "source": [
    "OddEven.OddEven()"
   ]
  },
  {
   "cell_type": "code",
   "execution_count": null,
   "id": "aae03a46",
   "metadata": {},
   "outputs": [],
   "source": [
    "class EligibilityForMarriage:\n",
    "    def Eligible():\n",
    "        gender = input(\"Your Gender (Male/Female): \")\n",
    "        print(\"Your Gender: \",gender)\n",
    "        age = int(input(\"Your Age: \"))\n",
    "        print(\"Your Age: \",age)\n",
    "        if gender.lower() == \"male\" :\n",
    "            if age >= 21:\n",
    "                print(\"ELIGIBLE\")\n",
    "            else:\n",
    "                print(\"NOT ELIGIBLE\")\n",
    "        elif gender.lower() == \"female\":\n",
    "            if age >= 18:\n",
    "                print(\"ELIGIBLE\")\n",
    "            else:\n",
    "                print(\"NOT ELIGIBLE\")\n",
    "        else:\n",
    "            print(\"Invalid Gender Entered\")"
   ]
  },
  {
   "cell_type": "code",
   "execution_count": 23,
   "id": "90e2aef2",
   "metadata": {},
   "outputs": [
    {
     "name": "stdout",
     "output_type": "stream",
     "text": [
      "Your Gender:  male\n",
      "Your Age:  20\n",
      "NOT ELIGIBLE\n"
     ]
    }
   ],
   "source": [
    "EligibilityForMarriage.Eligible()"
   ]
  },
  {
   "cell_type": "code",
   "execution_count": 24,
   "id": "6a293ec4",
   "metadata": {},
   "outputs": [],
   "source": [
    "class FindPercent:\n",
    "    def percentage():\n",
    "        marks = []\n",
    "        for i in range(1, 6):\n",
    "            m = int(input(f\"Subject{i} = \"))\n",
    "            print(f\"Subject{i} = \",m)\n",
    "            marks.append(m)\n",
    "        total = sum(marks)\n",
    "        percent = (total / 500) * 100\n",
    "        print(\"Total :\", total)\n",
    "        print(\"Percentage :\", percent)"
   ]
  },
  {
   "cell_type": "code",
   "execution_count": 26,
   "id": "f94cea34",
   "metadata": {},
   "outputs": [
    {
     "name": "stdout",
     "output_type": "stream",
     "text": [
      "Subject1 =  98\n",
      "Subject2 =  87\n",
      "Subject3 =  95\n",
      "Subject4 =  95\n",
      "Subject5 =  93\n",
      "Total : 468\n",
      "Percentage : 93.60000000000001\n"
     ]
    }
   ],
   "source": [
    "FindPercent.percentage()"
   ]
  },
  {
   "cell_type": "code",
   "execution_count": 29,
   "id": "e18817cb",
   "metadata": {},
   "outputs": [],
   "source": [
    "class Triangle:\n",
    "    def triangle():\n",
    "        height = int(input(\"Height: \"))\n",
    "        print(\"Height: \",height)\n",
    "        breadth = int(input(\"Breadth: \"))\n",
    "        print(\"Breadth: \",breadth)\n",
    "        area = (height * breadth) / 2\n",
    "        print(\"Area formula: (Height*Breadth)/2\")\n",
    "        print(\"Area of Triangle:\", area)\n",
    "\n",
    "        height1 = int(input(\"Height1: \"))\n",
    "        print(\"Height1: \",height1)\n",
    "        height2 = int(input(\"Height2: \"))\n",
    "        print(\"Height2: \",height2)\n",
    "        breadth2 = int(input(\"Breadth: \"))\n",
    "        print(\"Breadth: \",breadth2)\n",
    "        perimeter = height1 + height2 + breadth2\n",
    "        print(\"Perimeter formula: Height1+Height2+Breadth\")\n",
    "        print(\"Perimeter of Triangle:\", perimeter)"
   ]
  },
  {
   "cell_type": "code",
   "execution_count": 30,
   "id": "242aa60d",
   "metadata": {},
   "outputs": [
    {
     "name": "stdout",
     "output_type": "stream",
     "text": [
      "Height:  32\n",
      "Breadth:  34\n",
      "Area formula: (Height*Breadth)/2\n",
      "Area of Triangle: 544.0\n",
      "Height1:  2\n",
      "Height2:  4\n",
      "Breadth:  4\n",
      "Perimeter formula: Height1+Height2+Breadth\n",
      "Perimeter of Triangle: 10\n"
     ]
    }
   ],
   "source": [
    "Triangle.triangle()"
   ]
  }
 ],
 "metadata": {
  "kernelspec": {
   "display_name": "Python 3",
   "language": "python",
   "name": "python3"
  },
  "language_info": {
   "codemirror_mode": {
    "name": "ipython",
    "version": 3
   },
   "file_extension": ".py",
   "mimetype": "text/x-python",
   "name": "python",
   "nbconvert_exporter": "python",
   "pygments_lexer": "ipython3",
   "version": "3.12.4"
  }
 },
 "nbformat": 4,
 "nbformat_minor": 5
}
